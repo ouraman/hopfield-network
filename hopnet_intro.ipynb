{
 "cells": [
  {
   "cell_type": "markdown",
   "id": "bbc6df2d-8621-4f79-861f-694a6125d872",
   "metadata": {},
   "source": [
    "## Hopfield network with binary nodes\n",
    "\n",
    "If you are familiar with Ising model you can think of Hopfield network as a generalization of this model, where all the sites are connected not only the nearest neighbors ones that is why it is called network, suggested and studied by John Hopfield in his 1982 paper:\n",
    "#### Neural Networks and physical systems with emergent collective computational ability\n",
    "\n",
    "We are interested in the application of this networks in error correction and classification. However we will use physical concepts to understand the behavior of the model and also to design it more efficiently. First we introduce the physical system and then interpret the role of variables and parameters in a machine learnining context."
   ]
  },
  {
   "cell_type": "markdown",
   "id": "0a5f07f2-8687-405f-8271-0051024d957d",
   "metadata": {},
   "source": [
    "### Energy function \n",
    "Consider a collection of nodes each can assume value 0 or 1, these nodes are fully connected and the connection between node i and j is represented by a tensor $T_{ij}$ called transition matrix, that act as a coupling as it is formulated in the definition of the energy function:\n",
    "\n",
    "### $E = -\\frac{1}{2} V_iT_{ij}V_j - I_jV_j$\n",
    "\n",
    "In ising model coupling can have any value so if we are only interested in the physical system we must try all the possible value of the coupling, but here we want to design the system so that it is applicable to some machine learning task. More specifically the network can serve as a collection of memories that is fed with a state and asked to associate the state with a memory, this can be considered as error correction or classification. The first question is how to store memories, it must have something to do with the coupling, since the value of parameters are the characteristics of a theory alongside with the dimensionality, we try to find how we can construct coupling given the memory states. Network states lives in a $2^N$ dimensional space for $N=4$, where $N$ stands for the number of nodes, this is a typical state: $\\vec{V} = [1,0,0,1]$ the obvious choice to construct a matrix from a vector would be the outer product of it with itself, but at the same time we want this matrix to act as a coupling between nodes by which we mean it tells us how each node tends to pick its value given the value of its neighbor let us have a look at the values of the entries of the matrix constructed from $\\vec{V}$ by outer product:\n",
    "$T_{01} = 0,~ T_{11}=0  $ as we see the pure outer product give same value for having a pair of on and off nodes as well as a pair of off nodes, which is obviously not reflecting the correlation correctly. In order to avoid this deficiency the transition matrix is defined as follows:\n",
    "$T_{ij} = (2V_i-1)(2V_j-1)$, if  both (ith and jth ) nodes are on or off the corresponding matrix entry is 1 otherwise it is -1 that means to achieve a stable configuration from a given arbitrary state, the positively connected nodes tend to change the value so that they stay positively connected and the same logic is applied to negatively connected nodes. So the physical process of reaching the minimum energy state will be equivalent to the process of remembering a memory which is encoded in the value of couplings. This process is formalized by the following update rule:\n",
    "\n",
    "### Update Rule:\n",
    "$x_j = \\sum_k T_{jk}V_k + I_j$\n",
    "\n",
    "if $x_j > 0 \\rightarrow V_j = 1,~ x_j<0 \\rightarrow V_j = 0$\n",
    "\n",
    "if $I_j = 0$, $\\Delta E = -\\Delta V_i \\sum T_{ij} V_j$. We see that the above rule tends to minimize the energy. \n",
    "\n",
    "If we store more than one memory state then transition matrix is given by:\n",
    "$T = \\sum_i T^i$, where $T^i$ stores the memory $\\vec{V}^i$ for when the number of memories to be contained in T is not too large, and the memories not correlated.\n"
   ]
  },
  {
   "cell_type": "markdown",
   "id": "c90e6ed6-e00d-4ab2-bdf2-051f4de7cb92",
   "metadata": {},
   "source": [
    "#### Code guidance:\n",
    "\n",
    "In the following block the parameters and libraries are defined and imported.\n",
    "The functions that return the transition matrix and the result of memory retrieval are defined together with the energy and two helper functions."
   ]
  },
  {
   "cell_type": "code",
   "execution_count": 52,
   "id": "ca4bd913-c5c7-4348-8410-b67a309b1f3a",
   "metadata": {},
   "outputs": [],
   "source": [
    "node_dim = 2 # each node takes this number of different values, it can be 1,-1 or 0,1\n",
    "net_size = 4 # the number of nodes in the network \n",
    "import numpy as np\n",
    "import itertools\n",
    "import matplotlib.pyplot as plt\n",
    "\n",
    "\n",
    "###########################################################\n",
    "# Helper function to check if an array is a member of a list\n",
    "\n",
    "def array_in_list(img, mems):\n",
    "    for mem in mems:\n",
    "        count = 0\n",
    "        for xx in range(len(mem)):\n",
    "            if mem[xx] == img[xx]:\n",
    "                count += 1\n",
    "        if count == len(mem):\n",
    "            return True\n",
    "    \n",
    "    return False\n",
    "\n",
    "\n",
    "###########################################################\n",
    "# Constructing the transition matrix according to Hebb rule:\n",
    "\n",
    "def hebb_matrix(memories): \n",
    "    mems = memories\n",
    "    hebb_list = []\n",
    "    hebb_list = [np.outer(2*mem-1,2*mem-1) for mem in memories]\n",
    "    hebb_matrix = sum(hebb_list)\n",
    "    for mm in range(len(memories[0])):\n",
    "        hebb_matrix[mm,mm] = 0\n",
    "    return hebb_matrix\n",
    "\n",
    "\n",
    "###############################################################\n",
    "# The function that takes a member of the configuration space: img \n",
    "# and returns the associated memory or class for given transition matrix: tmatrix\n",
    "# I external source: ext_sourc and set of stored memories: memories\n",
    "\n",
    "def remember(tmatrix, img, ext_source, memories): \n",
    "    \n",
    "    if array_in_list(img, memories):\n",
    "        x = np.dot(tmatrix, img) + ext_source # x is an arry of shape mem, so ext_source must have the same shape too\n",
    "        mem = img.copy()\n",
    "\n",
    "        for i in range(len(x)):\n",
    "            if x[i] > 0:\n",
    "                mem[i] = 1\n",
    "            else:\n",
    "                mem[i] = 0\n",
    "            if (mem==img).all():\n",
    "                break\n",
    "                return img, \"North remembers.\" # tells that the stored memory is identically restored\n",
    "        \n",
    "        return img, \"You know nothing Jon Snow.\"\n",
    "    # there is something wrong if the function cannot remember \n",
    "    #the memory which is stored given the exact state from the memory\n",
    "        \n",
    "    else:\n",
    "        x = np.dot(tmatrix, img) + ext_source # x is an arry of shape mem, so ext_source must have the same shape too\n",
    "        temp = img.copy()\n",
    "\n",
    "        for i in range(len(x)):\n",
    "            if x[i] > 0:\n",
    "                temp[i] = 1\n",
    "            elif x[i] <0:\n",
    "                temp[i] = 0\n",
    "            \n",
    "            if array_in_list(temp, memories):\n",
    "                \n",
    "                return np.array([temp,img]), \"distance=\", dist(img,temp), (\"Here is Johnny\") # The associated memo is found\n",
    "                break\n",
    "                \n",
    "        if not array_in_list(temp, memories):\n",
    "            return  np.array([temp,img]), \"distance=\", dist(img,temp), (\"Lost in translation\") # None of the memos are a match\n",
    "\n",
    "###############################################################\n",
    "# The energy function\n",
    "\n",
    "def energy(transition_matrix, img, ext_source):\n",
    "    \n",
    "    tm = transition_matrix\n",
    "    exs = ext_source\n",
    "    ee = -0.5*(np.dot(img,np.dot(tm, img))) - np.dot(img, exs) \n",
    "    return ee\n",
    "\n",
    "################################################################\n",
    "# calculate the distance between different configurations: v and w 1-d numpy array \n",
    "\n",
    "def dist(v, w):\n",
    "    sub = v-w\n",
    "    dist = sum(abs(sub))\n",
    "    return dist\n",
    "   \n"
   ]
  },
  {
   "cell_type": "markdown",
   "id": "13a1df62-3870-4a78-8026-c622c0a7cfef",
   "metadata": {},
   "source": [
    "#### Generating the configuration space"
   ]
  },
  {
   "cell_type": "code",
   "execution_count": 53,
   "id": "f175562d-61f1-43e0-a8dc-a5773a44f2bb",
   "metadata": {},
   "outputs": [],
   "source": [
    "mode = 0 # if -1 , the state of the node are 1, -1 if 0 they are 1,0\n",
    "num_states = net_size**node_dim # number of all the possible states of the network\n",
    "if mode == -1:\n",
    "    node_space = [1, -1]\n",
    "else:\n",
    "    node_space = [1,0]\n",
    "\n",
    "net_states = list(itertools.product(node_space, repeat=net_size))\n",
    "net_states = [np.array(st) for st in net_states] # the list of all posssible configurations of the network\n",
    "\n",
    "\n",
    "# memfrac: the fraction of states that are stored in the memory. symmemories: the list of memories\n",
    "memfrac = 0.3\n",
    "symmemories = []\n",
    "symmemories = net_states[:int((memfrac)/2*len(net_states))]\n",
    "#symmemories = [[1,1,1,1] , [1,0,1,0]]\n",
    "symmemories = np.array(symmemories)"
   ]
  },
  {
   "cell_type": "code",
   "execution_count": 54,
   "id": "8274cc3e-7cdb-4eed-8307-70109f1ce33c",
   "metadata": {},
   "outputs": [
    {
     "data": {
      "text/plain": [
       "array([[1, 1, 1, 1],\n",
       "       [1, 1, 1, 0]])"
      ]
     },
     "execution_count": 54,
     "metadata": {},
     "output_type": "execute_result"
    }
   ],
   "source": [
    "symmemories"
   ]
  },
  {
   "cell_type": "markdown",
   "id": "fa2a09e3-b1d6-44fb-bf41-7a409bb5d080",
   "metadata": {},
   "source": [
    "### Study of the theory\n",
    "Now we want to know how this Hopfield network characterized by the given update rule and hebbian transition matrix is able to retrieve memories. To reach this goal:\n",
    "* We verify that the network is able to restore memories exactly, which is applying the update rule to each member of memory list.\n",
    "* We then examine the restoring power of the network on defected memories\n",
    "* To see the dynamical aspect of this model we plot energy for each update\n"
   ]
  },
  {
   "cell_type": "code",
   "execution_count": 43,
   "id": "fe7bb3ec-c053-463d-9700-195a37a96b27",
   "metadata": {},
   "outputs": [],
   "source": [
    "## dreamorie_long: the list of configuration space that are NOT memory and are to be associated to a memory state\n",
    "images = net_states.copy()\n",
    "dreamorie_long = []\n",
    "dreamorie_long = np.stack([arr for arr in np.stack(images) if not any((arr == elem).all() for elem in symmemories)])"
   ]
  },
  {
   "cell_type": "code",
   "execution_count": 44,
   "id": "b8700a1a-1fb2-4fe2-a60a-e7b19fcdc892",
   "metadata": {},
   "outputs": [
    {
     "data": {
      "text/plain": [
       "array([[1, 1, 0, 1],\n",
       "       [1, 1, 0, 0],\n",
       "       [1, 0, 1, 1],\n",
       "       [1, 0, 1, 0],\n",
       "       [1, 0, 0, 1],\n",
       "       [1, 0, 0, 0],\n",
       "       [0, 1, 1, 1],\n",
       "       [0, 1, 1, 0],\n",
       "       [0, 1, 0, 1],\n",
       "       [0, 1, 0, 0],\n",
       "       [0, 0, 1, 1],\n",
       "       [0, 0, 1, 0],\n",
       "       [0, 0, 0, 1],\n",
       "       [0, 0, 0, 0]])"
      ]
     },
     "execution_count": 44,
     "metadata": {},
     "output_type": "execute_result"
    }
   ],
   "source": [
    "dreamorie_long"
   ]
  },
  {
   "cell_type": "code",
   "execution_count": 45,
   "id": "407a7de4-dcf5-428c-bce6-dbe55b56b322",
   "metadata": {},
   "outputs": [
    {
     "name": "stderr",
     "output_type": "stream",
     "text": [
      "<ipython-input-45-bc519b4a9caa>:7: VisibleDeprecationWarning: Creating an ndarray from ragged nested sequences (which is a list-or-tuple of lists-or-tuples-or ndarrays with different lengths or shapes) is deprecated. If you meant to do this, you must specify 'dtype=object' when creating the ndarray.\n",
      "  nostalgia_long = np.array(nostalgia_long)\n"
     ]
    }
   ],
   "source": [
    "# nostalgia_long : the result of retrieval action on the dreamorie_long members\n",
    "\n",
    "trans_matrix = hebb_matrix(symmemories)\n",
    "ext_source = np.zeros(len(symmemories[0]))\n",
    "nostalgia_long = []\n",
    "nostalgia_long = [remember(trans_matrix, img, ext_source, symmemories) for img in dreamorie_long]\n",
    "nostalgia_long = np.array(nostalgia_long)"
   ]
  },
  {
   "cell_type": "code",
   "execution_count": null,
   "id": "2adaa461-61e3-4282-9785-5985d8829cfe",
   "metadata": {},
   "outputs": [],
   "source": []
  },
  {
   "cell_type": "code",
   "execution_count": 46,
   "id": "db85ce66-3d9f-4c61-b80e-3a16c336c289",
   "metadata": {},
   "outputs": [
    {
     "data": {
      "text/plain": [
       "array([[array([[1, 1, 1, 1],\n",
       "               [1, 1, 0, 1]]), 'dist=', 1, 'Here is Johnny'],\n",
       "       [array([[1, 1, 1, 0],\n",
       "               [1, 1, 0, 0]]), 'dist=', 1, 'Here is Johnny'],\n",
       "       [array([[1, 1, 1, 1],\n",
       "               [1, 0, 1, 1]]), 'dist=', 1, 'Here is Johnny'],\n",
       "       [array([[1, 1, 1, 0],\n",
       "               [1, 0, 1, 0]]), 'dist=', 1, 'Here is Johnny'],\n",
       "       [array([[1, 1, 1, 1],\n",
       "               [1, 0, 0, 1]]), 'dist=', 2, 'Here is Johnny'],\n",
       "       [array([[1, 1, 1, 0],\n",
       "               [1, 0, 0, 0]]), 'dist=', 2, 'Here is Johnny'],\n",
       "       [array([[1, 1, 1, 1],\n",
       "               [0, 1, 1, 1]]), 'dist=', 1, 'Here is Johnny'],\n",
       "       [array([[1, 1, 1, 0],\n",
       "               [0, 1, 1, 0]]), 'dist=', 1, 'Here is Johnny'],\n",
       "       [array([[1, 1, 1, 1],\n",
       "               [0, 1, 0, 1]]), 'dist=', 2, 'Here is Johnny'],\n",
       "       [array([[1, 1, 1, 0],\n",
       "               [0, 1, 0, 0]]), 'dist=', 2, 'Here is Johnny'],\n",
       "       [array([[1, 1, 1, 1],\n",
       "               [0, 0, 1, 1]]), 'dist=', 2, 'Here is Johnny'],\n",
       "       [array([[1, 1, 1, 0],\n",
       "               [0, 0, 1, 0]]), 'dist=', 2, 'Here is Johnny'],\n",
       "       [array([[0, 0, 0, 1],\n",
       "               [0, 0, 0, 1]]), 'dist=', 0, 'Lost in translation'],\n",
       "       [array([[0, 0, 0, 0],\n",
       "               [0, 0, 0, 0]]), 'dist=', 0, 'Lost in translation']],\n",
       "      dtype=object)"
      ]
     },
     "execution_count": 46,
     "metadata": {},
     "output_type": "execute_result"
    }
   ],
   "source": [
    "nostalgia_long"
   ]
  },
  {
   "cell_type": "markdown",
   "id": "82f58934-9a55-45ac-a34d-f1cdc62f3b03",
   "metadata": {},
   "source": [
    "### Comparing energy levels of the images and their transformations"
   ]
  },
  {
   "cell_type": "code",
   "execution_count": 50,
   "id": "69064295-787a-4596-8b61-9bd0e609f61f",
   "metadata": {},
   "outputs": [],
   "source": [
    "nostalgia_long_pairs = nostalgia_long[:,0]\n",
    "nostalgia_long_pairs = np.stack(nostalgia_long_pairs)\n",
    "\n",
    "energy_long_madeleine = [energy(trans_matrix, img, ext_source) for img in nostalgia_long_pairs[:,1]]\n",
    "energy_long_granny = [energy(trans_matrix, img, ext_source) for img in nostalgia_long_pairs[:,0]]\n",
    "energy_symmemories = [energy(trans_matrix, img, ext_source) for img in symmemories]\n"
   ]
  },
  {
   "cell_type": "code",
   "execution_count": 57,
   "id": "ae380bde-f738-4445-9e7a-7968d0253887",
   "metadata": {},
   "outputs": [
    {
     "data": {
      "image/png": "[encoded data removed]",
      "text/plain": [
       "<Figure size 432x288 with 1 Axes>"
      ]
     },
     "metadata": {
      "needs_background": "light"
     },
     "output_type": "display_data"
    }
   ],
   "source": [
    "plt.plot(energy_long_madeleine, \"o\", label=\"dreams\")\n",
    "plt.plot(energy_long_granny, \"*r\", label=\"nostalgia\")\n",
    "#plt.plot(energy_symmemories, \"^g\", label=\"memories\")\n",
    "plt.legend()\n",
    "plt.show()"
   ]
  },
  {
   "cell_type": "code",
   "execution_count": 56,
   "id": "5f07cd8e-6f2a-4000-be54-e9c6fb50e669",
   "metadata": {},
   "outputs": [
    {
     "data": {
      "image/png": "[encoded data removed]",
      "text/plain": [
       "<Figure size 432x288 with 1 Axes>"
      ]
     },
     "metadata": {
      "needs_background": "light"
     },
     "output_type": "display_data"
    }
   ],
   "source": [
    "plt.plot(energy_symmemories, \"^g\", label=\"memories\")\n",
    "plt.show()"
   ]
  },
  {
   "cell_type": "markdown",
   "id": "be6e535d-8fda-416f-ab4e-ad9b2ea62758",
   "metadata": {},
   "source": [
    "In a future work we investigate the quality of this memory retrieval and how to improve it"
   ]
  }
 ],
 "metadata": {
  "kernelspec": {
   "display_name": "Python 3",
   "language": "python",
   "name": "python3"
  },
  "language_info": {
   "codemirror_mode": {
    "name": "ipython",
    "version": 3
   },
   "file_extension": ".py",
   "mimetype": "text/x-python",
   "name": "python",
   "nbconvert_exporter": "python",
   "pygments_lexer": "ipython3",
   "version": "3.9.1"
  }
 },
 "nbformat": 4,
 "nbformat_minor": 5
}
